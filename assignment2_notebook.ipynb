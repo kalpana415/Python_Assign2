{
 "cells": [
  {
   "cell_type": "code",
   "execution_count": 1,
   "metadata": {},
   "outputs": [],
   "source": [
    "from functools import reduce"
   ]
  },
  {
   "cell_type": "code",
   "execution_count": 28,
   "metadata": {},
   "outputs": [
    {
     "data": {
      "text/plain": [
       "840"
      ]
     },
     "execution_count": 28,
     "metadata": {},
     "output_type": "execute_result"
    }
   ],
   "source": [
    "l=[1,3,5,7,8]\n",
    "\n",
    "def sum1(a,b):\n",
    "    return a+b\n",
    "\n",
    "def mul(a,b):\n",
    "    return a*b\n",
    "\n",
    "reduce(mul,l)\n"
   ]
  },
  {
   "cell_type": "code",
   "execution_count": 87,
   "metadata": {},
   "outputs": [],
   "source": [
    "l=[1,3,5,7,8]\n",
    "\n",
    "def sum1(a,b):\n",
    "    return a+b\n",
    "\n",
    "def mul(a,b):\n",
    "    return a*b\n",
    "\n",
    "def sub(a,b):\n",
    "    return a-b\n",
    "\n",
    "def myreduce(fun,l):\n",
    "    length=len(l)\n",
    "    a=l[0]\n",
    "    for i in range(length):\n",
    "        if i==0:\n",
    "            continue\n",
    "        else:\n",
    "            b=l[i]\n",
    "            a= fun(a,b)\n",
    "    print(a)"
   ]
  },
  {
   "cell_type": "code",
   "execution_count": 92,
   "metadata": {},
   "outputs": [
    {
     "name": "stdout",
     "output_type": "stream",
     "text": [
      "-22\n"
     ]
    }
   ],
   "source": [
    "myreduce(lambda x,y :x-y ,l)"
   ]
  },
  {
   "cell_type": "code",
   "execution_count": 93,
   "metadata": {},
   "outputs": [
    {
     "name": "stdout",
     "output_type": "stream",
     "text": [
      "840\n"
     ]
    }
   ],
   "source": [
    "myreduce(mul,l)"
   ]
  },
  {
   "cell_type": "code",
   "execution_count": 230,
   "metadata": {},
   "outputs": [],
   "source": [
    "m=[1,2,3,4,5,6,7,8]\n",
    "\n",
    "def is_even(x):\n",
    "    if x%2==0:\n",
    "        return True\n",
    "    else:\n",
    "        return False\n",
    "    \n",
    "def is_odd(x):\n",
    "    if x%2==1:\n",
    "        return True\n",
    "    else:\n",
    "        return False\n",
    "def is_greater(x):\n",
    "    if x>=5:\n",
    "        return True\n",
    "    else:\n",
    "        return False\n",
    "\n",
    "def myfilter(fun, m):\n",
    "    out=[]\n",
    "    for i in m:\n",
    "        c= fun(i)\n",
    "        if c == True:\n",
    "            out.append(i)\n",
    "    print(out)"
   ]
  },
  {
   "cell_type": "code",
   "execution_count": 232,
   "metadata": {},
   "outputs": [
    {
     "name": "stdout",
     "output_type": "stream",
     "text": [
      "[2, 4, 6, 8]\n"
     ]
    }
   ],
   "source": [
    "myfilter(is_even,m)"
   ]
  },
  {
   "cell_type": "code",
   "execution_count": 231,
   "metadata": {},
   "outputs": [
    {
     "name": "stdout",
     "output_type": "stream",
     "text": [
      "[1, 3, 5, 7]\n"
     ]
    }
   ],
   "source": [
    "myfilter(is_odd,m)"
   ]
  },
  {
   "cell_type": "code",
   "execution_count": 233,
   "metadata": {},
   "outputs": [
    {
     "name": "stdout",
     "output_type": "stream",
     "text": [
      "[5, 6, 7, 8]\n"
     ]
    }
   ],
   "source": [
    "myfilter(is_greater,m)"
   ]
  },
  {
   "cell_type": "code",
   "execution_count": 373,
   "metadata": {},
   "outputs": [
    {
     "data": {
      "text/plain": [
       "['A', 'C', 'A', 'D', 'G', 'I', 'L', 'D']"
      ]
     },
     "execution_count": 373,
     "metadata": {},
     "output_type": "execute_result"
    }
   ],
   "source": [
    "l=['a','c','a','d','g','i','l','d']\n",
    "\n",
    "\n",
    "[ i.upper() for i in l ]\n"
   ]
  },
  {
   "cell_type": "code",
   "execution_count": 401,
   "metadata": {},
   "outputs": [
    {
     "name": "stdout",
     "output_type": "stream",
     "text": [
      "['x', 'xx', 'xxx', 'xxxx', 'y', 'yy', 'yyy', 'yyyy', 'z', 'zz', 'zzz', 'zzzz']\n"
     ]
    }
   ],
   "source": [
    "m=['x','y','z']\n",
    "out=[]\n",
    "out1=[]\n",
    "for i in m:\n",
    "    for j in range(1,5):\n",
    "        out.append(i*j)\n",
    "print(out)"
   ]
  },
  {
   "cell_type": "code",
   "execution_count": 407,
   "metadata": {},
   "outputs": [
    {
     "name": "stdout",
     "output_type": "stream",
     "text": [
      "['x', 'y', 'z', 'xx', 'yy', 'zz', 'xxx', 'yyy', 'zzz', 'xxxx', 'yyyy', 'zzzz']\n"
     ]
    }
   ],
   "source": [
    "l=[1,2,3,4]\n",
    "m=['x','y','z']\n",
    "out=[]\n",
    "\n",
    "for i in l:\n",
    "    for j in m:\n",
    "        out.append(i*j)\n",
    "print(out)"
   ]
  },
  {
   "cell_type": "code",
   "execution_count": 265,
   "metadata": {},
   "outputs": [],
   "source": [
    "l=['hi','howru','hello','good','perfect','fantastic','super','hi how r u??']\n",
    "\n",
    "def longest_word(l):\n",
    "    length=0\n",
    "    word='x'\n",
    "    for i in l:\n",
    "        len1=len(i)\n",
    "        if length > len1:\n",
    "            length = length\n",
    "            word = word\n",
    "        else:\n",
    "            length = len1\n",
    "            word=i\n",
    "    print(word)\n"
   ]
  },
  {
   "cell_type": "code",
   "execution_count": 266,
   "metadata": {},
   "outputs": [
    {
     "name": "stdout",
     "output_type": "stream",
     "text": [
      "hi how r u??\n"
     ]
    }
   ],
   "source": [
    "longest_word(l)"
   ]
  },
  {
   "cell_type": "code",
   "execution_count": 364,
   "metadata": {},
   "outputs": [
    {
     "name": "stdout",
     "output_type": "stream",
     "text": [
      "enter 1st side :2\n",
      "enter 2nd side: 3\n",
      "enter 3rd side :4\n",
      "2.9047375096555625\n"
     ]
    }
   ],
   "source": [
    "a=float(input('enter 1st side :'))\n",
    "b=float(input('enter 2nd side: '))\n",
    "c=float(input('enter 3rd side :'))\n",
    "\n",
    "s=float((a + b + c) / 2)\n",
    "\n",
    "Area= (s*(s-a)*(s-b)*(s-c)) ** 0.5\n",
    "\n",
    "print(Area)"
   ]
  },
  {
   "cell_type": "code",
   "execution_count": 297,
   "metadata": {},
   "outputs": [],
   "source": [
    "l=['hi','howru','hello','good','perfect','fantastic','super','hi how r u??']\n",
    "\n",
    "def filter_long_words(l,n):\n",
    "    m=[]\n",
    "    for i in l:\n",
    "        c=len(i)\n",
    "        if c > n:\n",
    "            m.append(i)\n",
    "    print(m)"
   ]
  },
  {
   "cell_type": "code",
   "execution_count": 299,
   "metadata": {},
   "outputs": [
    {
     "name": "stdout",
     "output_type": "stream",
     "text": [
      "['perfect', 'fantastic', 'hi how r u??']\n"
     ]
    }
   ],
   "source": [
    "filter_long_words(l,5)"
   ]
  },
  {
   "cell_type": "code",
   "execution_count": null,
   "metadata": {},
   "outputs": [],
   "source": [
    "l=['hi','howru','hello','good','perfect','fantastic','super','hi how r u??']\n",
    "\n",
    "def word_lenth(l):\n",
    "    m=[]\n",
    "    for i in l:\n",
    "        c = len(i)\n",
    "        m.append(c)\n",
    "    print(m)"
   ]
  },
  {
   "cell_type": "code",
   "execution_count": 355,
   "metadata": {},
   "outputs": [
    {
     "name": "stdout",
     "output_type": "stream",
     "text": [
      "[2, 5, 5, 4, 7, 9, 5, 12]\n"
     ]
    }
   ],
   "source": [
    "word_lenth(l)"
   ]
  },
  {
   "cell_type": "code",
   "execution_count": 336,
   "metadata": {},
   "outputs": [],
   "source": [
    "def check_vowel(x):\n",
    "    l=['A','E','I','O','U']\n",
    "    for i in l:\n",
    "        if x.upper() == i:\n",
    "            return True\n",
    "    else:\n",
    "        return False"
   ]
  },
  {
   "cell_type": "code",
   "execution_count": 353,
   "metadata": {},
   "outputs": [
    {
     "data": {
      "text/plain": [
       "True"
      ]
     },
     "execution_count": 353,
     "metadata": {},
     "output_type": "execute_result"
    }
   ],
   "source": [
    "check_vowel('u')"
   ]
  },
  {
   "cell_type": "code",
   "execution_count": 354,
   "metadata": {},
   "outputs": [
    {
     "data": {
      "text/plain": [
       "False"
      ]
     },
     "execution_count": 354,
     "metadata": {},
     "output_type": "execute_result"
    }
   ],
   "source": [
    "check_vowel('k')"
   ]
  },
  {
   "cell_type": "code",
   "execution_count": null,
   "metadata": {},
   "outputs": [],
   "source": []
  }
 ],
 "metadata": {
  "kernelspec": {
   "display_name": "Python 3",
   "language": "python",
   "name": "python3"
  },
  "language_info": {
   "codemirror_mode": {
    "name": "ipython",
    "version": 3
   },
   "file_extension": ".py",
   "mimetype": "text/x-python",
   "name": "python",
   "nbconvert_exporter": "python",
   "pygments_lexer": "ipython3",
   "version": "3.7.6"
  }
 },
 "nbformat": 4,
 "nbformat_minor": 4
}
